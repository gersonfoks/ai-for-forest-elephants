{
 "cells": [
  {
   "cell_type": "markdown",
   "id": "045b1bbc-2b9f-4451-be86-41201e6f1809",
   "metadata": {},
   "source": [
    "## Experimental code\n",
    "This code can be used to pick values in an interval to make sure no sound is used that is already present in an existing time interval\n",
    "\n",
    "\n",
    "\n"
   ]
  },
  {
   "cell_type": "code",
   "execution_count": 4,
   "id": "02470448-c053-4ced-bf85-d75592c65089",
   "metadata": {
    "tags": []
   },
   "outputs": [],
   "source": [
    "import numpy as np\n",
    "# Sample uniformly between points\n",
    "\n",
    "starting_points = [1,3, 3 ,5,7]\n",
    "ending_points = [4,3.4, 4,6,8]\n",
    "intervals = [(s, e) for s, e in zip(starting_points, ending_points)]\n",
    "start_value = 0\n",
    "end_value = 10\n",
    "\n"
   ]
  },
  {
   "cell_type": "code",
   "execution_count": 5,
   "id": "eed77d8f-83a1-4bf5-b3e7-03edb9cf3687",
   "metadata": {
    "tags": []
   },
   "outputs": [],
   "source": [
    "# first get intervals that are not\n",
    "def overlap(i_1, i_2):\n",
    "    # Assumes that i_1[0] < i_2[0]\n",
    "    if i_1[1] > i_2[0]:\n",
    "        return True\n",
    "    else:\n",
    "        return False\n",
    "\n",
    "def merge_overlapping_intervals(intervals):\n",
    "    intervals_to_process = intervals.copy()\n",
    "    resulting_intervals = []\n",
    "    \n",
    "    while len(intervals_to_process) != 0:\n",
    "        \n",
    "        next_interval = intervals_to_process.pop(0)\n",
    "        to_remove = []\n",
    "        for i in intervals_to_process:\n",
    "            \n",
    "            \n",
    "            if overlap(next_interval, i):\n",
    "                \n",
    "                next_interval = (next_interval[0], max(i[1], next_interval[1]))\n",
    "                to_remove.append(i)\n",
    "        \n",
    "        intervals_to_process = [i for i in intervals_to_process if i not in to_remove]\n",
    "                \n",
    "            \n",
    "        \n",
    "        resulting_intervals.append(next_interval)\n",
    "        \n",
    "        \n",
    "    return resulting_intervals\n",
    "\n",
    "merge_overlapping_intervals(intervals)\n",
    "            \n",
    "            \n",
    "        \n",
    "\n",
    "def get_complement(intervals, start_value, ending_value):\n",
    "    \n",
    "    complements = []\n",
    "    start_i = start_value\n",
    "    end_i = None\n",
    "    \n",
    "    intervals = merge_overlapping_intervals(intervals)\n",
    "    \n",
    "    sorted_intervals = sorted(intervals, key=lambda x: x[0])\n",
    "\n",
    "    for i_1 in sorted_intervals:\n",
    "        end_i = i_1[0]\n",
    "        \n",
    "        \n",
    "        \n",
    "        complements.append((start_i, end_i))\n",
    "        \n",
    "        start_i = i_1[1]\n",
    "        \n",
    "    end_i = ending_value\n",
    "    \n",
    "    complements.append((start_i, end_i))\n",
    "    \n",
    "    return complements\n",
    "    \n",
    "complement = get_complement(intervals, start_value, end_value)\n",
    "    "
   ]
  },
  {
   "cell_type": "code",
   "execution_count": 6,
   "id": "4384a0bd-79ca-4b89-8d30-7a4fa32f9213",
   "metadata": {
    "tags": []
   },
   "outputs": [],
   "source": [
    "lenghts = np.array([end - start for start, end in complement])\n",
    "total_lengths = np.sum(lenghts)\n",
    "p = lenghts/total_lengths"
   ]
  },
  {
   "cell_type": "code",
   "execution_count": 11,
   "id": "faffee11-e074-4092-ac44-346720075915",
   "metadata": {
    "tags": []
   },
   "outputs": [],
   "source": [
    "indices = np.random.choice(len(complement), p=p, size=10)\n",
    "random_intervals = [complement[i] for i in indices]\n",
    "starting_values = np.array([np.random.uniform(start, end) for start, end in random_intervals])\n",
    "ending_values = starting_values + 0.01"
   ]
  },
  {
   "cell_type": "code",
   "execution_count": 12,
   "id": "58aae68c-0eca-4947-9e3b-8312fa2e513d",
   "metadata": {
    "tags": []
   },
   "outputs": [
    {
     "data": {
      "text/plain": [
       "array([0.27110501, 6.58041769, 6.30601166, 9.71510013, 9.99066213,\n",
       "       6.64443759, 4.14697368, 4.37652769, 6.81387847, 9.33849526])"
      ]
     },
     "execution_count": 12,
     "metadata": {},
     "output_type": "execute_result"
    }
   ],
   "source": [
    "starting_values"
   ]
  },
  {
   "cell_type": "code",
   "execution_count": 13,
   "id": "c13e3355-602c-4f3b-a0c9-b5c7550d411d",
   "metadata": {
    "tags": []
   },
   "outputs": [
    {
     "data": {
      "text/plain": [
       "array([ 0.28110501,  6.59041769,  6.31601166,  9.72510013, 10.00066213,\n",
       "        6.65443759,  4.15697368,  4.38652769,  6.82387847,  9.34849526])"
      ]
     },
     "execution_count": 13,
     "metadata": {},
     "output_type": "execute_result"
    }
   ],
   "source": [
    "ending_values"
   ]
  },
  {
   "cell_type": "code",
   "execution_count": null,
   "id": "0200536e-8aa0-417c-bff9-359818c13f3b",
   "metadata": {},
   "outputs": [],
   "source": []
  }
 ],
 "metadata": {
  "kernelspec": {
   "display_name": "Python 3 (ipykernel)",
   "language": "python",
   "name": "python3"
  },
  "language_info": {
   "codemirror_mode": {
    "name": "ipython",
    "version": 3
   },
   "file_extension": ".py",
   "mimetype": "text/x-python",
   "name": "python",
   "nbconvert_exporter": "python",
   "pygments_lexer": "ipython3",
   "version": "3.9.16"
  }
 },
 "nbformat": 4,
 "nbformat_minor": 5
}
